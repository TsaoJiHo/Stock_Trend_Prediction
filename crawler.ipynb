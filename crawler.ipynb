{
 "cells": [
  {
   "cell_type": "code",
   "execution_count": 1,
   "metadata": {},
   "outputs": [],
   "source": [
    "import requests\n",
    "import pandas as pd\n",
    "\n",
    "\n",
    "res = requests.get(\"http://isin.twse.com.tw/isin/C_public.jsp?strMode=2\")\n",
    "\n",
    "df = pd.read_html(res.text)[0]\n",
    "\n",
    "# 設定column名稱\n",
    "df.columns = df.iloc[0]\n",
    "# 刪除第一行\n",
    "df = df.iloc[1:]\n",
    "\n",
    "# 先移除row，再移除column，超過三個NaN則移除\n",
    "df = df.dropna(thresh=3, axis=0).dropna(thresh=3, axis=1)\n"
   ]
  },
  {
   "cell_type": "code",
   "execution_count": 2,
   "metadata": {},
   "outputs": [],
   "source": [
    "ls = list(df[df['產業別'] == '半導體業']['有價證券代號及名稱']) + list(df[df['產業別'] == '光電業']['有價證券代號及名稱'])\n",
    "for i in range(len(ls)):\n",
    "    ls[i] = ls[i][:4]\n",
    "\n",
    "with open('codes.txt', 'w') as f:\n",
    "    for code in ls:\n",
    "        f.write(code + ' ')"
   ]
  },
  {
   "cell_type": "code",
   "execution_count": 1,
   "metadata": {},
   "outputs": [
    {
     "data": {
      "text/plain": [
       "145"
      ]
     },
     "execution_count": 1,
     "metadata": {},
     "output_type": "execute_result"
    }
   ],
   "source": [
    "with open('codes.txt', 'r') as f:\n",
    "    codes = f.read().split()\n",
    "\n",
    "len(codes)"
   ]
  }
 ],
 "metadata": {
  "interpreter": {
   "hash": "9164a3399a70d355c381b62813f30880ed90ca5a6f321bf0d85375640bda7ee5"
  },
  "kernelspec": {
   "display_name": "Python 3.7.9 64-bit",
   "language": "python",
   "name": "python3"
  },
  "language_info": {
   "codemirror_mode": {
    "name": "ipython",
    "version": 3
   },
   "file_extension": ".py",
   "mimetype": "text/x-python",
   "name": "python",
   "nbconvert_exporter": "python",
   "pygments_lexer": "ipython3",
   "version": "3.7.9"
  },
  "orig_nbformat": 4
 },
 "nbformat": 4,
 "nbformat_minor": 2
}
