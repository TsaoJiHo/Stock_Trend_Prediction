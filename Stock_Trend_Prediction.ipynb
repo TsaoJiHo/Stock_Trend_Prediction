{
  "cells": [
    {
      "cell_type": "markdown",
      "metadata": {
        "id": "Mru1KPsy58wF"
      },
      "source": [
        "## Create Dataset"
      ]
    },
    {
      "cell_type": "code",
      "execution_count": 1,
      "metadata": {
        "id": "kb-lGUdY6YtI"
      },
      "outputs": [],
      "source": [
        "import torch\n",
        "from torch.utils.data import Dataset\n",
        "\n",
        "import numpy as np\n",
        "import csv\n",
        "\n",
        "\n",
        "class StockDataset(Dataset):\n",
        "    ''' Dataset for loading and preprocessing the dataset '''\n",
        "    def __init__(self,\n",
        "                 path,\n",
        "                 mode='train'\n",
        "              ):\n",
        "        self.mode = mode\n",
        "\n",
        "        # Read data into numpy arrays\n",
        "        with open(path, 'r') as fp:\n",
        "          data = list(csv.reader(fp))\n",
        "          data = np.array(data[1:])[:, 4:].astype(float)\n",
        "        \n",
        "        target = data[:, -1]\n",
        "        data = data[:, list(range(7))]\n",
        "\n",
        "        if mode == 'test':\n",
        "            # Testing data\n",
        "            self.data = torch.FloatTensor(data)\n",
        "            self.target = torch.LongTensor(target)\n",
        "        else:\n",
        "            # Training data (train/dev sets)\n",
        "        \n",
        "            # Splitting training data into train & dev sets\n",
        "            gap = int(len(data) * 0.8)\n",
        "            if mode == 'train':\n",
        "                \n",
        "                self.data = torch.FloatTensor(data[:gap])\n",
        "                self.target = torch.LongTensor(target[:gap])\n",
        "            elif mode == 'dev':\n",
        "                            \n",
        "            # Convert data into PyTorch tensors\n",
        "                self.data = torch.FloatTensor(data[gap:])\n",
        "                self.target = torch.LongTensor(target[gap:])\n",
        "\n",
        "        # Normalize features\n",
        "        self.data = \\\n",
        "            (self.data - self.data.mean(dim=0, keepdim=True)) \\\n",
        "            / self.data.std(dim=0, keepdim=True)\n",
        "\n",
        "        self.dim = self.data.shape[1]\n",
        "\n",
        "        print(f'Finished reading the {mode} set of Dataset ({len(self.data)} samples found, each dim = {self.dim})')\n",
        "\n",
        "    def __getitem__(self, index):\n",
        "\n",
        "        return self.data[index], self.target[index]\n",
        "\n",
        "    def __len__(self):\n",
        "\n",
        "        return len(self.data)\n"
      ]
    },
    {
      "cell_type": "markdown",
      "metadata": {
        "id": "A-nsZlkwTZBT"
      },
      "source": [
        "## Create Model"
      ]
    },
    {
      "cell_type": "code",
      "execution_count": 2,
      "metadata": {
        "id": "n3amS_XGTVru"
      },
      "outputs": [],
      "source": [
        "import torch\n",
        "import torch.nn as nn\n",
        "\n",
        "class Classifier(nn.Module):\n",
        "    def __init__(self):\n",
        "        super(Classifier, self).__init__()\n",
        "\n",
        "        self.layer1 = nn.Linear(7, 512)\n",
        "        self.layer1_bn=nn.BatchNorm1d(512)\n",
        "\n",
        "        self.layer2 = nn.Linear(512, 256)\n",
        "        self.layer2_bn=nn.BatchNorm1d(256)\n",
        "\n",
        "        self.layer3 = nn.Linear(256, 128)\n",
        "        self.layer3_bn=nn.BatchNorm1d(128)\n",
        "\n",
        "        self.layer4 = nn.Linear(128, 64)\n",
        "        self.layer4_bn=nn.BatchNorm1d(64)\n",
        "\n",
        "        self.layer5 = nn.Linear(64, 32)\n",
        "        self.layer5_bn=nn.BatchNorm1d(32)\n",
        "\n",
        "        self.drop = nn.Dropout(0.5)\n",
        "\n",
        "        self.out = nn.Linear(32, 3) \n",
        "\n",
        "        # self.act_fn = nn.Sigmoid()\n",
        "        self.act_fn = nn.ReLU()\n",
        "        \n",
        "\n",
        "    def forward(self, x):\n",
        "        # x = self.drop(x)\n",
        "\n",
        "        x = self.layer1(x)\n",
        "        x = self.layer1_bn(x)\n",
        "        x = self.act_fn(x)\n",
        "        # x = self.drop(x)\n",
        "\n",
        "        x = self.layer2(x)\n",
        "        x = self.layer2_bn(x)\n",
        "        x = self.act_fn(x)\n",
        "        # x = self.drop(x)\n",
        "\n",
        "        x = self.layer3(x)\n",
        "        x = self.layer3_bn(x)\n",
        "        x = self.act_fn(x)\n",
        "        # x = self.drop(x)\n",
        " \n",
        "        x = self.layer4(x)\n",
        "        x = self.layer4_bn(x)\n",
        "        x = self.act_fn(x)\n",
        "        # x = self.drop(x)\n",
        "\n",
        "        x = self.layer5(x)\n",
        "        x = self.layer5_bn(x)\n",
        "        x = self.act_fn(x)\n",
        "        # x = self.drop(x)\n",
        "\n",
        "        x = self.out(x)\n",
        "\n",
        "        \n",
        "        return x"
      ]
    },
    {
      "cell_type": "markdown",
      "metadata": {
        "id": "wiN23zVpLyyA"
      },
      "source": [
        "## DataLoader"
      ]
    },
    {
      "cell_type": "code",
      "execution_count": 3,
      "metadata": {
        "colab": {
          "base_uri": "https://localhost:8080/"
        },
        "id": "A0CNhTncL-8b",
        "outputId": "69ecadac-d77d-4dec-9b53-8b9c67d526b4"
      },
      "outputs": [
        {
          "name": "stdout",
          "output_type": "stream",
          "text": [
            "Finished reading the test set of Dataset (425070 samples found, each dim = 7)\n",
            "Finished reading the test set of Dataset (102360 samples found, each dim = 7)\n"
          ]
        }
      ],
      "source": [
        "BATCH_SIZE = 512\n",
        "\n",
        "from torch.utils.data import DataLoader\n",
        "\n",
        "train_set = StockDataset('./training_data_v2_1d.csv', mode = 'test')\n",
        "val_set = StockDataset('./testing_data_v2_1d.csv', mode = 'test')\n",
        "train_loader = DataLoader(train_set, batch_size=BATCH_SIZE, shuffle=True) #only shuffle the training data\n",
        "val_loader = DataLoader(val_set, batch_size=BATCH_SIZE, shuffle=False)"
      ]
    },
    {
      "cell_type": "markdown",
      "metadata": {
        "id": "zerDhL96Txdf"
      },
      "source": [
        "## Training"
      ]
    },
    {
      "cell_type": "code",
      "execution_count": 4,
      "metadata": {
        "colab": {
          "base_uri": "https://localhost:8080/"
        },
        "id": "0vuMs3g-TyWn",
        "outputId": "16643d24-6c7c-4ab4-cbe1-978784ecfb39"
      },
      "outputs": [
        {
          "name": "stdout",
          "output_type": "stream",
          "text": [
            "DEVICE: cpu\n"
          ]
        }
      ],
      "source": [
        "\n",
        "#check device\n",
        "def get_device():\n",
        "  return 'cuda' if torch.cuda.is_available() else 'cpu'\n",
        "\n",
        "# fix random seed\n",
        "def same_seeds(seed):\n",
        "    torch.manual_seed(seed)\n",
        "    if torch.cuda.is_available():\n",
        "        torch.cuda.manual_seed(seed)\n",
        "        torch.cuda.manual_seed_all(seed)  \n",
        "    np.random.seed(seed)  \n",
        "    torch.backends.cudnn.benchmark = False\n",
        "    torch.backends.cudnn.deterministic = True\n",
        "\n",
        "# fix random seed for reproducibility\n",
        "same_seeds(0)\n",
        "\n",
        "# get device \n",
        "# device = get_device()\n",
        "device = 'cpu'\n",
        "print(f'DEVICE: {device}')\n",
        "\n",
        "# training parameters\n",
        "num_epoch = 400        # number of training epoch\n",
        "early_stop = 99999999\n",
        "learning_rate = 0.001       # learning rate\n",
        "\n",
        "# the path where checkpoint saved\n",
        "model_path = './model.ckpt'\n",
        "\n",
        "# create model, define a loss function, and optimizer\n",
        "model = Classifier().to(device)\n",
        "criterion = nn.CrossEntropyLoss()\n",
        "optimizer = torch.optim.Adam(model.parameters(), lr=learning_rate)\n",
        "scheduler = torch.optim.lr_scheduler.ExponentialLR(optimizer, gamma=0.9)\n",
        "\n",
        "load_pretrained_model = False\n",
        "activate_scheduler = False"
      ]
    },
    {
      "cell_type": "code",
      "execution_count": 5,
      "metadata": {},
      "outputs": [],
      "source": [
        "def weighted_precision(y_true, y_predict):\n",
        "    hit_count = {0: 0, 1: 0, 2: 0}\n",
        "\n",
        "    for i, prediction in enumerate(y_predict):\n",
        "        if y_true[i] == prediction:\n",
        "            hit_count[prediction] += 1\n",
        "\n",
        "    \n",
        "    r1 = hit_count[0]/y_true.count(0)\n",
        "    r2 = hit_count[1]/y_true.count(1)\n",
        "    # r3 = hit_count[2]/y_true.count(2)\n",
        "\n",
        "    p1 = hit_count[0]/y_predict.count(0)\n",
        "    p2 = hit_count[1]/y_predict.count(1)\n",
        "    p3 = hit_count[2]/y_predict.count(2)\n",
        "\n",
        "\n",
        "    # a1 = hit_count[0]/up_down\n",
        "    # a2 = hit_count[2]/down_up\n",
        "\n",
        "    f1 = 2 * p1 * r1 / (p1 + r1)\n",
        "    f2 = 2 * p2 * r2 / (p2 + r2)\n",
        "    # f3 = 2 * p3 * r3 / (p3 + r3)\n",
        "    \n",
        "    return (p1 + p2 + p3) / 3"
      ]
    },
    {
      "cell_type": "code",
      "execution_count": 6,
      "metadata": {
        "colab": {
          "base_uri": "https://localhost:8080/"
        },
        "id": "4RPKuNPRUckh",
        "outputId": "df35649a-4015-4844-e2df-fa1cf0bace0e"
      },
      "outputs": [
        {
          "name": "stdout",
          "output_type": "stream",
          "text": [
            "[001/400] Train Acc: 0.386887 F1: 0.376 wP: 0.386 Loss: 1.087105 |                 Val Acc: 0.378419 F1: 0.353 wP: 0.378 loss: 1.090686\n",
            "saving model with Val Precision 0.378\n",
            "[003/400] Train Acc: 0.398659 F1: 0.391 wP: 0.398 Loss: 1.081886 |                 Val Acc: 0.383656 F1: 0.351 wP: 0.387 loss: 1.089114\n",
            "saving model with Val Precision 0.387\n",
            "epoch 10 | train acc : 0.4073046792293034\n",
            "[012/400] Train Acc: 0.407387 F1: 0.401 wP: 0.407 Loss: 1.077272 |                 Val Acc: 0.387143 F1: 0.360 wP: 0.391 loss: 1.088270\n",
            "saving model with Val Precision 0.391\n",
            "epoch 20 | train acc : 0.41230385583550944\n",
            "epoch 30 | train acc : 0.4165196320606018\n",
            "epoch 40 | train acc : 0.42067894699696523\n",
            "epoch 50 | train acc : 0.4258428023619639\n",
            "epoch 60 | train acc : 0.43135483567412425\n",
            "epoch 70 | train acc : 0.43607876349777686\n",
            "epoch 80 | train acc : 0.4406897687439716\n",
            "epoch 90 | train acc : 0.44624650057637566\n",
            "epoch 100 | train acc : 0.45040581551273906\n",
            "epoch 110 | train acc : 0.45466158515068106\n",
            "epoch 120 | train acc : 0.45931023125602843\n",
            "epoch 130 | train acc : 0.4626226268614581\n",
            "epoch 140 | train acc : 0.46505987249158964\n",
            "epoch 150 | train acc : 0.4687627920107276\n",
            "epoch 160 | train acc : 0.4722633919119204\n",
            "epoch 170 | train acc : 0.4749147199284824\n",
            "epoch 180 | train acc : 0.4773284400216435\n",
            "epoch 190 | train acc : 0.48058202178464726\n",
            "epoch 200 | train acc : 0.4829345754816854\n",
            "epoch 210 | train acc : 0.48574117204225187\n",
            "epoch 220 | train acc : 0.48589644058625636\n",
            "epoch 230 | train acc : 0.48989107676382715\n",
            "epoch 240 | train acc : 0.4913755381466582\n",
            "epoch 250 | train acc : 0.49319170960077163\n",
            "epoch 260 | train acc : 0.49504787446773474\n",
            "epoch 270 | train acc : 0.4960641776648552\n",
            "epoch 280 | train acc : 0.4960877032018256\n",
            "epoch 290 | train acc : 0.4993530477333145\n",
            "epoch 300 | train acc : 0.5009222010492389\n",
            "epoch 310 | train acc : 0.5020914202366669\n",
            "epoch 320 | train acc : 0.5026960265368057\n",
            "epoch 330 | train acc : 0.5039569953184181\n",
            "epoch 340 | train acc : 0.5058037499705931\n",
            "epoch 350 | train acc : 0.505740231020773\n",
            "epoch 360 | train acc : 0.5071799938833604\n",
            "epoch 370 | train acc : 0.5092690615663302\n",
            "epoch 380 | train acc : 0.5103794669113323\n",
            "epoch 390 | train acc : 0.5111252264332934\n",
            "saving model at last epoch\n"
          ]
        }
      ],
      "source": [
        "from sklearn.metrics import f1_score   \n",
        "\n",
        "# train from pretrained model\n",
        "if load_pretrained_model:\n",
        "    model.load_state_dict(torch.load(model_path))\n",
        "\n",
        "# Training\n",
        "\n",
        "best_acc = 0.0\n",
        "best_weighted_precision = 0.0\n",
        "early_stop_cnt = 0\n",
        "\n",
        "acc_record = {'train': [], 'dev': []}\n",
        "macro_f1_record = {'train': [], 'dev': []}\n",
        "weighted_score_record = {'train': [], 'dev': []}\n",
        "\n",
        "# init accuracy\n",
        "train_acc = 0.0\n",
        "val_acc = 0.0\n",
        "\n",
        "train_labels = []\n",
        "train_predictions = []\n",
        "val_labels = []\n",
        "val_predictions = []\n",
        "with torch.no_grad():\n",
        "    for data in val_loader:\n",
        "        inputs, labels = data\n",
        "        inputs, labels = inputs.to(device), labels.to(device)\n",
        "        outputs = model(inputs)\n",
        "        _, val_pred = torch.max(outputs, 1) # get the index of the class with the highest probability\n",
        "        val_acc += (val_pred.cpu() == labels.cpu()).sum().item() \n",
        "        for y in val_pred.cpu().numpy():\n",
        "            val_predictions.append(y)\n",
        "\n",
        "        for y in labels.cpu().numpy():\n",
        "            val_labels.append(y)\n",
        "      \n",
        "    for data in train_loader:\n",
        "        inputs, labels = data\n",
        "        inputs, labels = inputs.to(device), labels.to(device)\n",
        "        outputs = model(inputs) \n",
        "        _, train_pred = torch.max(outputs, 1) # get the index of the class with the highest probability\n",
        "        train_acc += (train_pred.cpu() == labels.cpu()).sum().item() \n",
        "        for y in train_pred.cpu().numpy():\n",
        "            train_predictions.append(y)\n",
        "\n",
        "        for y in labels.cpu().numpy():\n",
        "            train_labels.append(y)\n",
        "\n",
        "    acc_record['dev'].append(val_acc/len(val_set))\n",
        "    acc_record['train'].append(train_acc/len(train_set))\n",
        "    macro_f1_record['dev'].append(f1_score(val_labels, val_predictions, average='macro'))\n",
        "    macro_f1_record['train'].append(f1_score(train_labels, train_predictions, average='macro'))\n",
        "    weighted_score_record['dev'].append(weighted_precision(val_labels, val_predictions))\n",
        "    weighted_score_record['train'].append(weighted_precision(train_labels, train_predictions))\n",
        "\n",
        "# start training\n",
        "for epoch in range(num_epoch):\n",
        "  \n",
        "    train_acc = 0.0\n",
        "    train_loss = 0.0\n",
        "    val_acc = 0.0\n",
        "    val_loss = 0.0\n",
        "\n",
        "    train_labels = []\n",
        "    train_predictions = []\n",
        "    val_labels = []\n",
        "    val_predictions = []\n",
        "\n",
        "    # training\n",
        "    model.train() # set the model to training mode\n",
        "    for data in train_loader:\n",
        "        inputs, labels = data\n",
        "        inputs, labels = inputs.to(device), labels.to(device)\n",
        "        optimizer.zero_grad() \n",
        "        outputs = model(inputs) \n",
        "        batch_loss = criterion(outputs, labels)\n",
        "        _, train_pred = torch.max(outputs, 1) # get the index of the class with the highest probability\n",
        "        batch_loss.backward() # compute gradient\n",
        "        optimizer.step() # update model with optimizer\n",
        "\n",
        "        train_acc += (train_pred.cpu() == labels.cpu()).sum().item()\n",
        "        train_loss += batch_loss.item()\n",
        "        for y in train_pred.cpu().numpy():\n",
        "            train_predictions.append(y)\n",
        "\n",
        "        for y in labels.cpu().numpy():\n",
        "            train_labels.append(y)\n",
        "\n",
        "    \n",
        "    acc_record['train'].append(train_acc/len(train_set))\n",
        "\n",
        "    train_f1 = f1_score(train_labels, train_predictions, average='macro')\n",
        "    macro_f1_record['train'].append(train_f1)\n",
        "\n",
        "    train_weighted_precision = weighted_precision(train_labels, train_predictions)\n",
        "    weighted_score_record['train'].append(train_weighted_precision)\n",
        "\n",
        "    # validation\n",
        "    if len(val_set) > 0:\n",
        "        model.eval() # set the model to evaluation mode\n",
        "        with torch.no_grad():\n",
        "            for data in val_loader:\n",
        "                inputs, labels = data\n",
        "                inputs, labels = inputs.to(device), labels.to(device)\n",
        "                outputs = model(inputs)\n",
        "                batch_loss = criterion(outputs, labels) \n",
        "                _, val_pred = torch.max(outputs, 1) # get the index of the class with the highest probability\n",
        "            \n",
        "                val_acc += (val_pred.cpu() == labels.cpu()).sum().item() \n",
        "                val_loss += batch_loss.item()\n",
        "                for y in val_pred.cpu().numpy():\n",
        "                    val_predictions.append(y)\n",
        "\n",
        "                for y in labels.cpu().numpy():\n",
        "                    val_labels.append(y)\n",
        "\n",
        "\n",
        "            acc_record['dev'].append(val_acc/len(val_set))\n",
        "\n",
        "            val_f1 = f1_score(val_labels, val_predictions, average='macro')\n",
        "            macro_f1_record['dev'].append(val_f1)\n",
        "\n",
        "            val_weighted_precision = weighted_precision(val_labels, val_predictions)\n",
        "            weighted_score_record['dev'].append(val_weighted_precision)\n",
        "\n",
        "\n",
        "            # if the model improves, save a checkpoint at this epoch\n",
        "            if val_weighted_precision > best_weighted_precision:\n",
        "                best_weighted_precision = val_weighted_precision\n",
        "                torch.save(model.state_dict(), model_path)\n",
        "                print('[{:03d}/{:03d}] Train Acc: {:3.6f} F1: {:.3f} wP: {:.3f} Loss: {:3.6f} | \\\n",
        "                Val Acc: {:3.6f} F1: {:.3f} wP: {:.3f} loss: {:3.6f}'\n",
        "                      .format(epoch + 1, num_epoch, train_acc/len(train_set), train_f1, train_weighted_precision, train_loss/len(train_loader), \n",
        "                                                val_acc/len(val_set), val_f1, val_weighted_precision, val_loss/len(val_loader)))\n",
        "                # print('saving model with Val Acc {:.3f}'.format(best_acc/len(val_set)))\n",
        "                print('saving model with Val Precision {:.3f}'.format(best_weighted_precision))\n",
        "                early_stop_cnt = 0\n",
        "            else:\n",
        "                early_stop_cnt += 1\n",
        "    # else:\n",
        "    #     print('[{:03d}/{:03d}] Train Acc: {:3.6f} Loss: {:3.6f}'.format(\n",
        "    #         epoch + 1, num_epoch, train_acc/len(train_set), train_loss/len(train_loader)\n",
        "    #     ))\n",
        "    \n",
        "    # early stop\n",
        "    if early_stop_cnt > early_stop:\n",
        "      print('[{:03d}/{:03d}] Train Acc: {:3.6f} Loss: {:3.6f}'.format(\n",
        "            epoch + 1, num_epoch, train_acc/len(train_set), train_loss/len(train_loader)\n",
        "        ))\n",
        "      break\n",
        "\n",
        "    if epoch % 10 == 0 and epoch != 0:\n",
        "        print(f'epoch {epoch} | train acc : {train_acc/len(train_set)}')\n",
        "    \n",
        "    # lr schedule\n",
        "    if activate_scheduler:\n",
        "        scheduler.step()\n",
        "\n",
        "# if not validating, save the last epoch\n",
        "torch.save(model.state_dict(), './last_model.ckpt')\n",
        "print('saving model at last epoch')\n",
        "  \n"
      ]
    },
    {
      "cell_type": "code",
      "execution_count": 7,
      "metadata": {
        "id": "JZifS_N8OCKs"
      },
      "outputs": [],
      "source": [
        "import matplotlib.pyplot as plt\n",
        "from matplotlib.pyplot import figure\n",
        "\n",
        "def plot_learning_curve(acc_record, title='', y_label=''):\n",
        "    ''' Plot learning curve of your DNN (train & dev loss) '''\n",
        "    total_epoch = len(acc_record['train'])\n",
        "    x = range(total_epoch)\n",
        "    # x_2 = x_1[::len(acc_record['train']) // len(acc_record['dev'])]\n",
        "    figure(figsize=(6, 4))\n",
        "    plt.plot(x, acc_record['train'], c='tab:red', label='train')\n",
        "    plt.plot(x, acc_record['dev'], c='tab:cyan', label='dev')\n",
        "    plt.ylim(0.33, 0.55)\n",
        "    plt.xlabel('Training Epoch')\n",
        "    plt.ylabel(y_label)\n",
        "    plt.title('Learning curve of {}'.format(title))\n",
        "    plt.legend()\n",
        "    plt.show()"
      ]
    },
    {
      "cell_type": "code",
      "execution_count": 8,
      "metadata": {},
      "outputs": [],
      "source": [
        "temp = {'train': weighted_score_record['train'][:100], 'dev': weighted_score_record['dev'][:100]}"
      ]
    },
    {
      "cell_type": "code",
      "execution_count": 9,
      "metadata": {},
      "outputs": [
        {
          "data": {
            "image/png": "[encoded data removed]",
            "text/plain": [
              "<Figure size 432x288 with 1 Axes>"
            ]
          },
          "metadata": {
            "needs_background": "light"
          },
          "output_type": "display_data"
        }
      ],
      "source": [
        "plot_learning_curve(acc_record, title = 'deep model', y_label = 'Accuracy')"
      ]
    },
    {
      "cell_type": "code",
      "execution_count": 10,
      "metadata": {},
      "outputs": [
        {
          "data": {
            "image/png": "[encoded data removed]",
            "text/plain": [
              "<Figure size 432x288 with 1 Axes>"
            ]
          },
          "metadata": {
            "needs_background": "light"
          },
          "output_type": "display_data"
        }
      ],
      "source": [
        "plot_learning_curve(macro_f1_record, title = 'deep model', y_label = 'Macro F1 Score')"
      ]
    },
    {
      "cell_type": "code",
      "execution_count": 11,
      "metadata": {},
      "outputs": [
        {
          "data": {
            "image/png": "[encoded data removed]",
            "text/plain": [
              "<Figure size 432x288 with 1 Axes>"
            ]
          },
          "metadata": {
            "needs_background": "light"
          },
          "output_type": "display_data"
        }
      ],
      "source": [
        "plot_learning_curve(weighted_score_record, title = 'deep model', y_label = 'Macro Precision')"
      ]
    },
    {
      "cell_type": "code",
      "execution_count": 12,
      "metadata": {},
      "outputs": [
        {
          "name": "stdout",
          "output_type": "stream",
          "text": [
            "train acc\n",
            "0.5009222010492389\n",
            "0.5071799938833604\n",
            "0.5103794669113323\n",
            "0.5111252264332934\n",
            "0.5112593219940245\n",
            "0.5123932528759969\n"
          ]
        }
      ],
      "source": [
        "print('train acc')\n",
        "print(acc_record['train'][-100])\n",
        "print(acc_record['train'][-40])\n",
        "print(acc_record['train'][-20])\n",
        "print(acc_record['train'][-10])\n",
        "print(acc_record['train'][-5])\n",
        "print(acc_record['train'][-1])\n"
      ]
    },
    {
      "cell_type": "markdown",
      "metadata": {
        "id": "wzKdHDT2W8hH"
      },
      "source": [
        "## Testing"
      ]
    },
    {
      "cell_type": "code",
      "execution_count": 13,
      "metadata": {},
      "outputs": [],
      "source": [
        "# from sklearn.metrics import f1_score\n",
        "# device = 'cpu'\n",
        "# model_path = './models/macro_precision/30d/model.ckpt'"
      ]
    },
    {
      "cell_type": "code",
      "execution_count": 14,
      "metadata": {
        "id": "JjTKroj4W9i_"
      },
      "outputs": [
        {
          "name": "stdout",
          "output_type": "stream",
          "text": [
            "Test Acc: 0.3871434153966393\n"
          ]
        }
      ],
      "source": [
        "# create testing dataset\n",
        "# test_set = StockDataset('./testing_data.csv', mode = 'test')\n",
        "# test_loader = DataLoader(test_set, batch_size=BATCH_SIZE, shuffle=False)\n",
        "\n",
        "# create model and load weights from checkpoint\n",
        "model = Classifier().to(device)\n",
        "model.load_state_dict(torch.load(model_path))\n",
        "\n",
        "model.eval() # set the model to evaluation mode\n",
        "with torch.no_grad():\n",
        "  test_acc = 0.0\n",
        "  predict = []\n",
        "  label = []\n",
        "  for data in val_loader:\n",
        "    inputs, labels = data\n",
        "    inputs, labels = inputs.to(device), labels.to(device)\n",
        "    outputs = model(inputs) \n",
        "    _, test_pred = torch.max(outputs, 1) # get the index of the class with the highest probability\n",
        "\n",
        "    test_acc += (test_pred.cpu() == labels.cpu()).sum().item() \n",
        "\n",
        "    for y in test_pred.cpu().numpy():\n",
        "      predict.append(y)\n",
        "\n",
        "    for y in labels.cpu().numpy():\n",
        "      label.append(y)\n",
        "\n",
        "print(f'Test Acc: {test_acc / len(val_set)}')"
      ]
    },
    {
      "cell_type": "code",
      "execution_count": 15,
      "metadata": {
        "id": "14XaoxZbaouD"
      },
      "outputs": [
        {
          "name": "stdout",
          "output_type": "stream",
          "text": [
            "pred real\n",
            "25265 34120\n",
            "60806 34120\n",
            "16289 34120\n"
          ]
        }
      ],
      "source": [
        "print('pred', 'real')\n",
        "print(predict.count(0), label.count(0))\n",
        "print(predict.count(1), label.count(1))\n",
        "print(predict.count(2), label.count(2))\n"
      ]
    },
    {
      "cell_type": "code",
      "execution_count": 16,
      "metadata": {
        "id": "p5hAVssjm5rT"
      },
      "outputs": [],
      "source": [
        "hit_count = {0: 0, 1: 0, 2: 0}\n",
        "for i, prediction in enumerate(predict):\n",
        "  if label[i] == prediction:\n",
        "    hit_count[prediction] += 1\n"
      ]
    },
    {
      "cell_type": "code",
      "execution_count": 17,
      "metadata": {
        "id": "Q3F-MxIjotb0"
      },
      "outputs": [
        {
          "name": "stdout",
          "output_type": "stream",
          "text": [
            "Accuracy\n",
            "0.3871434153966393\n",
            "\n",
            "Recall\n",
            "0.28235638921453693 0.6846717467760844 0.1944021101992966\n",
            "\n",
            "Precision\n",
            "0.3813180288937265 0.38418906029010297 0.40720731782184294\n",
            "\n",
            "F1 score\n",
            "0.3244590384777301 0.49219391947411667 0.26316729155507945\n",
            "\n",
            "macro F1 score\n",
            "0.3599400831689754\n"
          ]
        }
      ],
      "source": [
        "import math\n",
        "\n",
        "def percent(x):\n",
        "    return math.ceil(x * 100)\n",
        "\n",
        "print('Accuracy')\n",
        "acc = (hit_count[0] + hit_count[1] + hit_count[2]) / (label.count(0) + label.count(1) + label.count(2))\n",
        "print(acc)\n",
        "\n",
        "print('\\nRecall')\n",
        "r1 = hit_count[0]/label.count(0)\n",
        "r2 = hit_count[1]/label.count(1)\n",
        "r3 = hit_count[2]/label.count(2)\n",
        "# print(percent(r1), percent(r2), percent(r3))\n",
        "print(r1, r2, r3)\n",
        "\n",
        "print('\\nPrecision')\n",
        "p1 = hit_count[0]/predict.count(0)\n",
        "p2 = hit_count[1]/predict.count(1)\n",
        "p3 = hit_count[2]/predict.count(2)\n",
        "# print(percent(p1), percent(p2), percent(p3))\n",
        "print(p1, p2, p3)\n",
        "\n",
        "print('\\nF1 score')\n",
        "f1 = 2 * p1 * r1 / (p1 + r1)\n",
        "f2 = 2 * p2 * r2 / (p2 + r2)\n",
        "f3 = 2 * p3 * r3 / (p3 + r3)\n",
        "# print(percent(f1), percent(f2), percent(f3))\n",
        "print(f1, f2, f3)\n",
        "\n",
        "print('\\nmacro F1 score')\n",
        "print((f1 + f2 + f3 )/ 3)"
      ]
    },
    {
      "cell_type": "code",
      "execution_count": 18,
      "metadata": {},
      "outputs": [
        {
          "name": "stdout",
          "output_type": "stream",
          "text": [
            "0.3599400831689754\n",
            "\n"
          ]
        }
      ],
      "source": [
        "print(f1_score(label, predict, average='macro'))\n",
        "print()\n",
        "# print(f1_score(label, predict, average='weighted'))\n",
        "# print()\n",
        "\n",
        "# print(f1_score(label, predict, average='micro'))\n",
        "# print()\n"
      ]
    },
    {
      "cell_type": "markdown",
      "metadata": {},
      "source": [
        "## Confusion Matrix"
      ]
    },
    {
      "cell_type": "code",
      "execution_count": 19,
      "metadata": {},
      "outputs": [],
      "source": [
        "\n",
        "def plot_confusion_matrix(cm,\n",
        "                          target_names,\n",
        "                          title='Confusion matrix',\n",
        "                          cmap=None,\n",
        "                          normalize=True):\n",
        "    \"\"\"\n",
        "    given a sklearn confusion matrix (cm), make a nice plot\n",
        "\n",
        "    Arguments\n",
        "    ---------\n",
        "    cm:           confusion matrix from sklearn.metrics.confusion_matrix\n",
        "\n",
        "    target_names: given classification classes such as [0, 1, 2]\n",
        "                  the class names, for example: ['high', 'medium', 'low']\n",
        "\n",
        "    title:        the text to display at the top of the matrix\n",
        "\n",
        "    cmap:         the gradient of the values displayed from matplotlib.pyplot.cm\n",
        "                  see http://matplotlib.org/examples/color/colormaps_reference.html\n",
        "                  plt.get_cmap('jet') or plt.cm.Blues\n",
        "\n",
        "    normalize:    If False, plot the raw numbers\n",
        "                  If True, plot the proportions\n",
        "\n",
        "    Usage\n",
        "    -----\n",
        "    plot_confusion_matrix(cm           = cm,                  # confusion matrix created by\n",
        "                                                              # sklearn.metrics.confusion_matrix\n",
        "                          normalize    = True,                # show proportions\n",
        "                          target_names = y_labels_vals,       # list of names of the classes\n",
        "                          title        = best_estimator_name) # title of graph\n",
        "\n",
        "    Citiation\n",
        "    ---------\n",
        "    http://scikit-learn.org/stable/auto_examples/model_selection/plot_confusion_matrix.html\n",
        "\n",
        "    \"\"\"\n",
        "    import matplotlib.pyplot as plt\n",
        "    import numpy as np\n",
        "    import itertools\n",
        "\n",
        "    accuracy = np.trace(cm) / float(np.sum(cm))\n",
        "    misclass = 1 - accuracy\n",
        "\n",
        "    if cmap is None:\n",
        "        cmap = plt.get_cmap('Blues')\n",
        "\n",
        "    plt.figure(figsize=(8, 6))\n",
        "    plt.imshow(cm, interpolation='nearest', cmap=cmap)\n",
        "    plt.title(title)\n",
        "    plt.colorbar()\n",
        "\n",
        "    if target_names is not None:\n",
        "        tick_marks = np.arange(len(target_names))\n",
        "        plt.xticks(tick_marks, target_names, rotation=45)\n",
        "        plt.yticks(tick_marks, target_names)\n",
        "\n",
        "    if normalize:\n",
        "        cm = cm.astype('float') / cm.sum(axis=1)[:, np.newaxis]\n",
        "\n",
        "\n",
        "    thresh = cm.max() / 1.5 if normalize else cm.max() / 2\n",
        "    for i, j in itertools.product(range(cm.shape[0]), range(cm.shape[1])):\n",
        "        if normalize:\n",
        "            plt.text(j, i, \"{:0.4f}\".format(cm[i, j]),\n",
        "                     horizontalalignment=\"center\",\n",
        "                     color=\"white\" if cm[i, j] > thresh else \"black\")\n",
        "        else:\n",
        "            plt.text(j, i, \"{:,}\".format(cm[i, j]),\n",
        "                     horizontalalignment=\"center\",\n",
        "                     color=\"white\" if cm[i, j] > thresh else \"black\")\n",
        "\n",
        "\n",
        "    plt.tight_layout()\n",
        "    plt.ylabel('True label')\n",
        "    # plt.xlabel(f'Predicted label\\naccuracy={accuracy}')\n",
        "    plt.xlabel('Predicted label')\n",
        "    plt.show()"
      ]
    },
    {
      "cell_type": "code",
      "execution_count": 20,
      "metadata": {},
      "outputs": [
        {
          "data": {
            "image/png": "[encoded data removed]",
            "text/plain": [
              "<Figure size 576x432 with 2 Axes>"
            ]
          },
          "metadata": {
            "needs_background": "light"
          },
          "output_type": "display_data"
        }
      ],
      "source": [
        "from sklearn.metrics import confusion_matrix\n",
        "\n",
        "\n",
        "plot_confusion_matrix(cm           = confusion_matrix(label, predict),\n",
        "                      normalize    = False,\n",
        "                      target_names = ['Down', 'Stable' ,'Up'],\n",
        "                      title        = \"Confusion Matrix\")                          "
      ]
    }
  ],
  "metadata": {
    "accelerator": "GPU",
    "colab": {
      "collapsed_sections": [],
      "name": "Stock Trend Prediction.ipynb",
      "provenance": []
    },
    "kernelspec": {
      "display_name": "Python 3",
      "name": "python3"
    },
    "language_info": {
      "codemirror_mode": {
        "name": "ipython",
        "version": 3
      },
      "file_extension": ".py",
      "mimetype": "text/x-python",
      "name": "python",
      "nbconvert_exporter": "python",
      "pygments_lexer": "ipython3",
      "version": "3.7.9"
    }
  },
  "nbformat": 4,
  "nbformat_minor": 0
}
