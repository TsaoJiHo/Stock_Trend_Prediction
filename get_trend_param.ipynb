{
 "cells": [
  {
   "cell_type": "code",
   "execution_count": 2,
   "metadata": {},
   "outputs": [],
   "source": [
    "import pandas as pd\n",
    "import math\n",
    "import numpy as np\n",
    "from tqdm import tqdm\n",
    "from collections import defaultdict\n",
    "\n",
    "def triple_barrier(price, ub, lb, max_period):\n",
    "\n",
    "    def end_price(s):\n",
    "        return np.append(s[(s / s[0] > ub) | (s / s[0] < lb)], s[-1])[0]/s[0]\n",
    "    \n",
    "    r = np.array(range(max_period))\n",
    "    \n",
    "    def end_time(s):\n",
    "        return np.append(r[(s / s[0] > ub) | (s / s[0] < lb)], max_period-1)[0]\n",
    "\n",
    "    p = price.rolling(max_period).apply(end_price, raw=True).shift(-max_period+1)\n",
    "    t = price.rolling(max_period).apply(end_time, raw=True).shift(-max_period+1)\n",
    "    t = pd.Series([t.index[int(k+i)] if not math.isnan(k+i) else np.datetime64('NaT') \n",
    "                   for i, k in enumerate(t)], index=t.index).dropna()\n",
    "\n",
    "    signal = pd.Series(1, p.index)\n",
    "    signal.loc[p > ub] = 2\n",
    "    signal.loc[p < lb] = 0\n",
    "    signal[-(max_period-1):] = np.nan\n",
    "    ret = pd.DataFrame({'triple_barrier_profit':p, 'triple_barrier_sell_time':t, 'triple_barrier_signal':signal})\n",
    "\n",
    "    return ret\n",
    "    "
   ]
  },
  {
   "cell_type": "code",
   "execution_count": 3,
   "metadata": {},
   "outputs": [
    {
     "name": "stderr",
     "output_type": "stream",
     "text": [
      "100%|██████████| 355/355 [3:56:30<00:00, 39.97s/it]  \n"
     ]
    }
   ],
   "source": [
    "close_df = pd.read_csv('./data/indicator_data/close.csv')\n",
    "\n",
    "with open('codes_300.txt', 'r') as f:\n",
    "    codes = f.read().split()\n",
    "\n",
    "code_para_map = defaultdict(lambda: defaultdict(list))\n",
    "\n",
    "for code in tqdm(codes): \n",
    "    close_serie = close_df[code].rename('close')\n",
    "\n",
    "    for d in [10, 20, 30, 40, 60, 120]:\n",
    "        up_threshold = 1.01\n",
    "        down_threshold = 0.99\n",
    "        label_name = str(d)+'d'\n",
    "        label_serie = triple_barrier(close_serie, up_threshold, down_threshold, d + 1)['triple_barrier_signal'].rename(label_name)\n",
    "\n",
    "        df = pd.concat([close_serie, label_serie], axis=1)\n",
    "        df = df.dropna()\n",
    "        df = df[83:]\n",
    "\n",
    "        while len(df[label_name].value_counts()) < 3 or df[label_name].value_counts()[2] > df[label_name].value_counts()[1]:\n",
    "            up_threshold += 0.001\n",
    "            down_threshold -= 0.001\n",
    "            label_serie = triple_barrier(close_serie, up_threshold, down_threshold, d + 1)['triple_barrier_signal'].rename(label_name)\n",
    "\n",
    "            df = pd.concat([close_serie, label_serie], axis=1)\n",
    "\n",
    "            df = df.dropna()\n",
    "            df = df[83:]\n",
    "        code_para_map[code][label_name] += [up_threshold, down_threshold]\n",
    "        "
   ]
  },
  {
   "cell_type": "code",
   "execution_count": 4,
   "metadata": {},
   "outputs": [],
   "source": [
    "# import json\n",
    "# with open('trend_params.json') as jsonfile:\n",
    "#     code_para_map = json.load(jsonfile)\n",
    "\n",
    "\n",
    "for code in code_para_map:\n",
    "    for d in code_para_map[code]:\n",
    "        code_para_map[code][d][0] = round(code_para_map[code][d][0], 3)\n",
    "        code_para_map[code][d][1] = round(code_para_map[code][d][1], 3)\n"
   ]
  },
  {
   "cell_type": "code",
   "execution_count": 8,
   "metadata": {},
   "outputs": [
    {
     "data": {
      "text/plain": [
       "355"
      ]
     },
     "execution_count": 8,
     "metadata": {},
     "output_type": "execute_result"
    }
   ],
   "source": [
    "len(code_para_map)"
   ]
  },
  {
   "cell_type": "code",
   "execution_count": 6,
   "metadata": {},
   "outputs": [],
   "source": [
    "import json\n",
    "    \n",
    "with open(\"trend_params_300.json\", \"w\") as outfile:\n",
    "    json.dump(code_para_map, outfile)"
   ]
  },
  {
   "cell_type": "code",
   "execution_count": null,
   "metadata": {},
   "outputs": [],
   "source": []
  }
 ],
 "metadata": {
  "interpreter": {
   "hash": "82d4c6f819cf47785f735f902f00da8643513d08dab4f4c7470bccf934b8d2d6"
  },
  "kernelspec": {
   "display_name": "Python 3.7.9 64-bit",
   "language": "python",
   "name": "python3"
  },
  "language_info": {
   "codemirror_mode": {
    "name": "ipython",
    "version": 3
   },
   "file_extension": ".py",
   "mimetype": "text/x-python",
   "name": "python",
   "nbconvert_exporter": "python",
   "pygments_lexer": "ipython3",
   "version": "3.7.9"
  },
  "orig_nbformat": 4
 },
 "nbformat": 4,
 "nbformat_minor": 2
}
